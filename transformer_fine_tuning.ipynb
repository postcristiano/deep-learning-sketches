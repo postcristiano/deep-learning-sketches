{
 "cells": [
  {
   "cell_type": "markdown",
   "id": "a22ff507-4feb-472f-a545-caedbbd73584",
   "metadata": {},
   "source": [
    "# Fine-tuning a transformer model for sentiment classification\n",
    "\n",
    "## *Fully Connected Neural Network*"
   ]
  },
  {
   "cell_type": "code",
   "execution_count": 2,
   "id": "37b4dbee-776d-4cb6-a37b-29b6d74181be",
   "metadata": {},
   "outputs": [
    {
     "name": "stdout",
     "output_type": "stream",
     "text": [
      "Author: postcristiano.pt\n",
      "\n"
     ]
    }
   ],
   "source": [
    "%reload_ext watermark\n",
    "%watermark -a \"postcristiano.pt\""
   ]
  },
  {
   "cell_type": "code",
   "execution_count": 8,
   "id": "0ab049db-bcd6-450d-9780-922a61c47fe4",
   "metadata": {},
   "outputs": [],
   "source": [
    "!pip install -q spacy"
   ]
  },
  {
   "cell_type": "code",
   "execution_count": 9,
   "id": "a60c3bd4-653e-46b6-9799-eeda1ce62538",
   "metadata": {},
   "outputs": [],
   "source": [
    "!pip install -q transformers"
   ]
  },
  {
   "cell_type": "code",
   "execution_count": 69,
   "id": "fc0d26e8-f6b8-4151-b9ed-1c68239dc1a6",
   "metadata": {},
   "outputs": [],
   "source": [
    "# Project dependencies\n",
    "import os\n",
    "import math\n",
    "import nltk\n",
    "import spacy\n",
    "import numpy as np\n",
    "import pandas as pd\n",
    "import tensorflow as tf\n",
    "import matplotlib.pyplot as plt\n",
    "import transformers\n",
    "from tokenizers import BertWordPieceTokenizer\n",
    "from tqdm import tqdm\n",
    "from nltk.corpus import stopwords\n",
    "from sklearn.preprocessing import LabelEncoder\n",
    "from sklearn.feature_extraction.text import TfidfVectorizer\n",
    "from sklearn.model_selection import train_test_split\n",
    "from sklearn.utils.class_weight import compute_class_weight\n",
    "from sklearn.metrics import confusion_matrix, accuracy_score, classification_report\n",
    "from tensorflow import keras\n",
    "from keras.utils import to_categorical\n",
    "from tensorflow.keras import Sequential\n",
    "from tensorflow.keras.models import load_model\n",
    "from tensorflow.keras.preprocessing.text import Tokenizer # OLD | from keras.preprocessing.text import Tokenizer\n",
    "from keras.metrics import Precision, Recall, AUC\n",
    "from tensorflow.keras.preprocessing.sequence import pad_sequences\n",
    "from keras.layers import Embedding, LSTM, Dense, Dropout, Bidirectional\n",
    "from keras.callbacks import EarlyStopping, LearningRateScheduler, CallbackList, ReduceLROnPlateau\n",
    "from tensorflow.keras.optimizers import Adam # OLD | from tensorflow.keras.optimizers.experimental import Adam\n",
    "\n",
    "\n",
    "# Disable TensorFlow registration warnings\n",
    "os.environ['TF_CPP_MIN_LOG_LEVEL'] = '3'  # FATAL\n",
    "tf.get_logger().setLevel('ERROR')\n",
    "\n",
    "# Additional configuration to avoid general logging warnings\n",
    "import logging\n",
    "logging.getLogger('tensorflow').disabled = True\n",
    "\n",
    "# Ignore specific warningss\n",
    "import warnings\n",
    "warnings.filterwarnings('ignore')"
   ]
  },
  {
   "cell_type": "markdown",
   "id": "73d188fb-d46f-4aa6-98ee-3ce83a3928eb",
   "metadata": {},
   "source": [
    "## Load Text Data"
   ]
  },
  {
   "cell_type": "code",
   "execution_count": 11,
   "id": "47ac02a3-1730-47e6-bef4-de536e8c5993",
   "metadata": {},
   "outputs": [],
   "source": [
    "# Load train data\n",
    "train_data_pt = pd.read_csv('samples/train_data.txt', header = None, delimiter = ';')"
   ]
  },
  {
   "cell_type": "code",
   "execution_count": 12,
   "id": "e23ebbd6-1c72-4f8c-8cce-1613c17baf0c",
   "metadata": {},
   "outputs": [],
   "source": [
    "# Load test data\n",
    "test_data_pt = pd.read_csv('samples/test_data.txt', header = None, delimiter = ';')"
   ]
  },
  {
   "cell_type": "code",
   "execution_count": 13,
   "id": "dee99937-d2ae-48f9-98aa-65a2568dde7e",
   "metadata": {},
   "outputs": [],
   "source": [
    "# Adjust columns\n",
    "train_data_pt = train_data_pt.rename(columns = {0: 'raw_text', 1:'sentiment'})\n",
    "test_data_pt = test_data_pt.rename(columns = {0: 'raw_text', 1:'sentiment'})"
   ]
  },
  {
   "cell_type": "code",
   "execution_count": 14,
   "id": "a90c716e-6563-489c-8586-96c0de51ac2e",
   "metadata": {},
   "outputs": [
    {
     "data": {
      "text/plain": [
       "(16000, 2)"
      ]
     },
     "execution_count": 14,
     "metadata": {},
     "output_type": "execute_result"
    }
   ],
   "source": [
    "# Shape\n",
    "train_data_pt.shape"
   ]
  },
  {
   "cell_type": "code",
   "execution_count": 15,
   "id": "7b8c645d-cd15-41d7-890f-f2435da52971",
   "metadata": {},
   "outputs": [
    {
     "data": {
      "text/plain": [
       "(2000, 2)"
      ]
     },
     "execution_count": 15,
     "metadata": {},
     "output_type": "execute_result"
    }
   ],
   "source": [
    "# Shape\n",
    "test_data_pt.shape"
   ]
  },
  {
   "cell_type": "code",
   "execution_count": 16,
   "id": "29698a9a-1fa6-4195-8ab7-daef0fb6bcdc",
   "metadata": {},
   "outputs": [
    {
     "data": {
      "text/html": [
       "<div>\n",
       "<style scoped>\n",
       "    .dataframe tbody tr th:only-of-type {\n",
       "        vertical-align: middle;\n",
       "    }\n",
       "\n",
       "    .dataframe tbody tr th {\n",
       "        vertical-align: top;\n",
       "    }\n",
       "\n",
       "    .dataframe thead th {\n",
       "        text-align: right;\n",
       "    }\n",
       "</style>\n",
       "<table border=\"1\" class=\"dataframe\">\n",
       "  <thead>\n",
       "    <tr style=\"text-align: right;\">\n",
       "      <th></th>\n",
       "      <th>raw_text</th>\n",
       "      <th>sentiment</th>\n",
       "    </tr>\n",
       "  </thead>\n",
       "  <tbody>\n",
       "    <tr>\n",
       "      <th>0</th>\n",
       "      <td>i am feeling completely overwhelmed i have two...</td>\n",
       "      <td>fear</td>\n",
       "    </tr>\n",
       "    <tr>\n",
       "      <th>1</th>\n",
       "      <td>i have the feeling she was amused and delighted</td>\n",
       "      <td>joy</td>\n",
       "    </tr>\n",
       "    <tr>\n",
       "      <th>2</th>\n",
       "      <td>i was able to help chai lifeline with your sup...</td>\n",
       "      <td>joy</td>\n",
       "    </tr>\n",
       "    <tr>\n",
       "      <th>3</th>\n",
       "      <td>i already feel like i fucked up though because...</td>\n",
       "      <td>anger</td>\n",
       "    </tr>\n",
       "    <tr>\n",
       "      <th>4</th>\n",
       "      <td>i still love my so and wish the best for him i...</td>\n",
       "      <td>sadness</td>\n",
       "    </tr>\n",
       "  </tbody>\n",
       "</table>\n",
       "</div>"
      ],
      "text/plain": [
       "                                            raw_text sentiment\n",
       "0  i am feeling completely overwhelmed i have two...      fear\n",
       "1    i have the feeling she was amused and delighted       joy\n",
       "2  i was able to help chai lifeline with your sup...       joy\n",
       "3  i already feel like i fucked up though because...     anger\n",
       "4  i still love my so and wish the best for him i...   sadness"
      ]
     },
     "execution_count": 16,
     "metadata": {},
     "output_type": "execute_result"
    }
   ],
   "source": [
    "# Data train sample\n",
    "train_data_pt.head()"
   ]
  },
  {
   "cell_type": "code",
   "execution_count": 17,
   "id": "c9ea662a-04ae-4184-8258-80116d3f7260",
   "metadata": {},
   "outputs": [
    {
     "data": {
      "text/plain": [
       "sentiment\n",
       "joy         5362\n",
       "sadness     4666\n",
       "anger       2159\n",
       "fear        1937\n",
       "love        1304\n",
       "surprise     572\n",
       "Name: count, dtype: int64"
      ]
     },
     "execution_count": 17,
     "metadata": {},
     "output_type": "execute_result"
    }
   ],
   "source": [
    "# List sentiments in data train\n",
    "train_data_pt['sentiment'].value_counts()"
   ]
  },
  {
   "cell_type": "code",
   "execution_count": 18,
   "id": "c0973d2c-ebf6-4089-a05b-14167cacd560",
   "metadata": {},
   "outputs": [
    {
     "data": {
      "text/plain": [
       "sentiment\n",
       "joy         695\n",
       "sadness     581\n",
       "anger       275\n",
       "fear        224\n",
       "love        159\n",
       "surprise     66\n",
       "Name: count, dtype: int64"
      ]
     },
     "execution_count": 18,
     "metadata": {},
     "output_type": "execute_result"
    }
   ],
   "source": [
    "# List sentiments in data test\n",
    "test_data_pt['sentiment'].value_counts()"
   ]
  },
  {
   "cell_type": "markdown",
   "id": "23750205-a2c3-454d-b976-2e307b33db6d",
   "metadata": {},
   "source": [
    "## Pre-processing of Text Data with SpaCy\n",
    "(https://spacy.io/)"
   ]
  },
  {
   "cell_type": "code",
   "execution_count": 19,
   "id": "5b059206-5132-4bb4-83f0-5a7205e4335f",
   "metadata": {},
   "outputs": [
    {
     "name": "stdout",
     "output_type": "stream",
     "text": [
      "\u001b[38;5;2m✔ Download and installation successful\u001b[0m\n",
      "You can now load the package via spacy.load('en_core_web_md')\n"
     ]
    }
   ],
   "source": [
    "!python -m spacy download en_core_web_md -q"
   ]
  },
  {
   "cell_type": "code",
   "execution_count": 20,
   "id": "fe184ca3-c716-46f9-90f1-e4dbb2a7cc0f",
   "metadata": {},
   "outputs": [],
   "source": [
    "# Load the dictionary\n",
    "pt_nlp = spacy.load('en_core_web_md')"
   ]
  },
  {
   "cell_type": "code",
   "execution_count": 21,
   "id": "4848c1a0-3411-4a15-9784-568284b12fda",
   "metadata": {},
   "outputs": [],
   "source": [
    "# Set function 'pt_preprocessing_text' that receives a text as a parameter\n",
    "def pt_preprocessing_text(text):\n",
    "    \n",
    "    # Process the text using the dictionary\n",
    "    doc = pt_nlp(text)\n",
    "    \n",
    "    # Creates a list of lemmas from the tokens, converted to lowercase and without blanks, \n",
    "    # excluding words that are stopwords\n",
    "    tokens = [token.lemma_.lower().strip() for token in doc if not token.is_stop]\n",
    "    \n",
    "    # returns the processed tokens as a single string, joining them with spaces\n",
    "    return ' '.join(tokens)"
   ]
  },
  {
   "cell_type": "code",
   "execution_count": 22,
   "id": "1368a862-83a8-471e-a540-d32a2f08010d",
   "metadata": {},
   "outputs": [],
   "source": [
    "# Applies function in train data\n",
    "train_data_pt['processed_text'] = train_data_pt['raw_text'].apply(pt_preprocessing_text)"
   ]
  },
  {
   "cell_type": "code",
   "execution_count": 23,
   "id": "d7e7df51-df76-4d78-8718-ceb7e5d29de7",
   "metadata": {},
   "outputs": [],
   "source": [
    "# Applies function in test data\n",
    "test_data_pt['processed_text'] = test_data_pt['raw_text'].apply(pt_preprocessing_text)"
   ]
  },
  {
   "cell_type": "code",
   "execution_count": 24,
   "id": "8b7a0c6d-4c5d-4948-9cc0-d774b910c0b3",
   "metadata": {},
   "outputs": [
    {
     "data": {
      "text/html": [
       "<div>\n",
       "<style scoped>\n",
       "    .dataframe tbody tr th:only-of-type {\n",
       "        vertical-align: middle;\n",
       "    }\n",
       "\n",
       "    .dataframe tbody tr th {\n",
       "        vertical-align: top;\n",
       "    }\n",
       "\n",
       "    .dataframe thead th {\n",
       "        text-align: right;\n",
       "    }\n",
       "</style>\n",
       "<table border=\"1\" class=\"dataframe\">\n",
       "  <thead>\n",
       "    <tr style=\"text-align: right;\">\n",
       "      <th></th>\n",
       "      <th>raw_text</th>\n",
       "      <th>sentiment</th>\n",
       "      <th>processed_text</th>\n",
       "    </tr>\n",
       "  </thead>\n",
       "  <tbody>\n",
       "    <tr>\n",
       "      <th>0</th>\n",
       "      <td>i feel like my only role now would be to tear ...</td>\n",
       "      <td>sadness</td>\n",
       "      <td>feel like role tear sail pessimism discontent</td>\n",
       "    </tr>\n",
       "    <tr>\n",
       "      <th>1</th>\n",
       "      <td>i feel just bcoz a fight we get mad to each ot...</td>\n",
       "      <td>anger</td>\n",
       "      <td>feel bcoz fight mad n u wanna publicity n let ...</td>\n",
       "    </tr>\n",
       "    <tr>\n",
       "      <th>2</th>\n",
       "      <td>i feel like reds and purples are just so rich ...</td>\n",
       "      <td>joy</td>\n",
       "      <td>feel like red purple rich kind perfect</td>\n",
       "    </tr>\n",
       "    <tr>\n",
       "      <th>3</th>\n",
       "      <td>im not sure the feeling of loss will ever go a...</td>\n",
       "      <td>sadness</td>\n",
       "      <td>m sure feeling loss away dull sweet feeling no...</td>\n",
       "    </tr>\n",
       "    <tr>\n",
       "      <th>4</th>\n",
       "      <td>i feel like ive gotten to know many of you thr...</td>\n",
       "      <td>joy</td>\n",
       "      <td>feel like ve get know comment email m apprecia...</td>\n",
       "    </tr>\n",
       "  </tbody>\n",
       "</table>\n",
       "</div>"
      ],
      "text/plain": [
       "                                            raw_text sentiment  \\\n",
       "0  i feel like my only role now would be to tear ...   sadness   \n",
       "1  i feel just bcoz a fight we get mad to each ot...     anger   \n",
       "2  i feel like reds and purples are just so rich ...       joy   \n",
       "3  im not sure the feeling of loss will ever go a...   sadness   \n",
       "4  i feel like ive gotten to know many of you thr...       joy   \n",
       "\n",
       "                                      processed_text  \n",
       "0      feel like role tear sail pessimism discontent  \n",
       "1  feel bcoz fight mad n u wanna publicity n let ...  \n",
       "2             feel like red purple rich kind perfect  \n",
       "3  m sure feeling loss away dull sweet feeling no...  \n",
       "4  feel like ve get know comment email m apprecia...  "
      ]
     },
     "execution_count": 24,
     "metadata": {},
     "output_type": "execute_result"
    }
   ],
   "source": [
    "# Data train sample\n",
    "test_data_pt.head()"
   ]
  },
  {
   "cell_type": "markdown",
   "id": "9ef36d99-09da-4593-bea7-ad3ce983eb13",
   "metadata": {},
   "source": [
    "## Model 1 - Fully Connected Neural Network Architecture\n",
    "\n",
    "### *Step 1 | Vectorization with TF-IDF*"
   ]
  },
  {
   "cell_type": "code",
   "execution_count": 25,
   "id": "9c42e052-35e8-48bc-a4ba-50f9b00c2e16",
   "metadata": {},
   "outputs": [],
   "source": [
    "# Create vectorizer\n",
    "pt_tfidf = TfidfVectorizer(max_df = 0.95, min_df = 2, stop_words = 'english')"
   ]
  },
  {
   "cell_type": "markdown",
   "id": "b556590a-cdf0-493d-bd4b-e9e5b4c97f73",
   "metadata": {},
   "source": [
    "Above creates an instance of TfidfVectorizer from the scikit-learn library, which is a tool used to convert a collection of raw documents into a TF-IDF (Term Frequency-Inverse Document Frequency) feature matrix. TF-IDF is a statistical technique used to quantify the importance of a word in a set of documents, commonly used in natural language processing and information retrieval tasks.\n",
    "\n",
    "**Parameter max_df=0.95:** This parameter defines the maximum document frequency limit for the terms that will be considered. Here, it is set to 0.95, which means that words that appear in more than 95% of documents will be ignored. This helps eliminate common words that don't contribute much to the meaning of the text.\n",
    "\n",
    "**Parameter min_df=2:** This parameter establishes the minimum document frequency for the terms. In this case, terms that appear in less than 2 documents will be ignored. This helps filter out rare terms that may only occur in a few samples and are therefore less relevant to the overall analysis.\n",
    "\n",
    "**stop_words='english'**: This parameter instructs the vectorizer to remove all English stop words from the analysis. Stop words are common words (such as \"and\", \"the\", \"in\") that are often filtered out in natural language processing because they are too frequent and do not carry meaningful information for text analysis."
   ]
  },
  {
   "cell_type": "code",
   "execution_count": 29,
   "id": "b5faef90-372b-4990-83f9-791220f74eb4",
   "metadata": {},
   "outputs": [],
   "source": [
    "# Applies vectorizer\n",
    "# fit_transform only train data sample, because fit_transform is a train procedure.\n",
    "train_data_tfidf = pt_tfidf.fit_transform(train_data_pt['processed_text']) \n",
    "\n",
    "test_data_tfidf = pt_tfidf.transform(test_data_pt['processed_text'])"
   ]
  },
  {
   "cell_type": "code",
   "execution_count": 30,
   "id": "3c2bacdc-3dfe-4d23-8bc2-ebb56c5abd60",
   "metadata": {},
   "outputs": [
    {
     "data": {
      "text/plain": [
       "(16000, 5587)"
      ]
     },
     "execution_count": 30,
     "metadata": {},
     "output_type": "execute_result"
    }
   ],
   "source": [
    "train_data_tfidf.shape"
   ]
  },
  {
   "cell_type": "code",
   "execution_count": 31,
   "id": "5ef972b6-7bb4-4035-a8d7-f454ed102320",
   "metadata": {},
   "outputs": [
    {
     "data": {
      "text/plain": [
       "scipy.sparse._csr.csr_matrix"
      ]
     },
     "execution_count": 31,
     "metadata": {},
     "output_type": "execute_result"
    }
   ],
   "source": [
    "type(train_data_tfidf)"
   ]
  },
  {
   "cell_type": "code",
   "execution_count": 32,
   "id": "c95b37b8-9c49-490a-807f-debe53d62900",
   "metadata": {},
   "outputs": [],
   "source": [
    "# Convert input data (processed text) to array\n",
    "X_train_array = train_data_tfidf.toarray()\n",
    "X_test_array = test_data_tfidf.toarray()"
   ]
  },
  {
   "cell_type": "markdown",
   "id": "3c5aa89c-347f-4833-aca8-ecded18c49a8",
   "metadata": {},
   "source": [
    "### Step 2: Data Preparation\n",
    "\n",
    "We now need to convert the target variable to numeric representation. We will use Label Encoding."
   ]
  },
  {
   "cell_type": "code",
   "execution_count": 35,
   "id": "4eb68423-c9d8-425a-834b-829fe31f3e00",
   "metadata": {},
   "outputs": [],
   "source": [
    "# Create Label Encoder\n",
    "pt_le = LabelEncoder()"
   ]
  },
  {
   "cell_type": "code",
   "execution_count": 36,
   "id": "a963dc39-124a-4f58-be27-74f02c5820ea",
   "metadata": {},
   "outputs": [],
   "source": [
    "# Fit and transform the target variable in train\n",
    "y_train_le = pt_le.fit_transform(train_data_pt['sentiment'])"
   ]
  },
  {
   "cell_type": "code",
   "execution_count": 37,
   "id": "b0e1caee-f8ef-4af4-9c62-aab60b2d8cea",
   "metadata": {},
   "outputs": [],
   "source": [
    "# Transform the target variable in test\n",
    "y_test_le = pt_le.transform(test_data_pt['sentiment']) # only test data or new data"
   ]
  },
  {
   "cell_type": "markdown",
   "id": "4e24a6ff-8887-4c21-b857-9165ab5c05a8",
   "metadata": {},
   "source": [
    "**We will automatically handle class imbalance.**\n",
    "\n",
    "**Techniques for balancing the data sample**\n",
    "- Oversampling: Creation of synthetic data and increases the number of records\n",
    "- Undersamplimeng: Decreases records of major classes, results in data loss\n",
    "- Give more weight in training to classes with smaller sample sizes"
   ]
  },
  {
   "cell_type": "code",
   "execution_count": 38,
   "id": "d52b07a3-4d41-412b-a28a-875d93586655",
   "metadata": {},
   "outputs": [],
   "source": [
    "# Class weights\n",
    "classes_weights = compute_class_weight('balanced', classes = np.unique(y_train_le), y = y_train_le)"
   ]
  },
  {
   "cell_type": "code",
   "execution_count": 39,
   "id": "f08b1218-d58c-4ab1-9247-21e622ac4773",
   "metadata": {},
   "outputs": [
    {
     "data": {
      "text/plain": [
       "numpy.ndarray"
      ]
     },
     "execution_count": 39,
     "metadata": {},
     "output_type": "execute_result"
    }
   ],
   "source": [
    "type(classes_weights)"
   ]
  },
  {
   "cell_type": "markdown",
   "id": "6d307f81-c53d-4fc9-9ff9-d194c05bb0a6",
   "metadata": {},
   "source": [
    "**compute_class_weight**: This is a scikit-learn function that calculates weights for classes. These weights can be used in classification models to give more importance to classes that are underrepresented in the dataset.\n",
    "\n",
    "**'balanced'**: This parameter indicates that the weights of the classes must be calculated in such a way that they balance the data set. This is done inversely proportional to the frequency of classes in the data set. More frequent classes receive a lower weight, while less frequent classes receive a greater weight.\n",
    "\n",
    "**classes** = np.unique(y_treino_le): Here, np.unique(y_treino_le) finds all the unique classes in the training dataset. The classes parameter tells the compute_class_weight function what these unique classes are.\n",
    "\n",
    "**y = y_train_le**: This is the label vector of the training dataset. The function will use these labels to calculate the frequency of each class.\n",
    "\n",
    "The result, stored in pesos_classes, is an array where each class has an associated weight. These weights can be used in classification models (such as a decision tree, a logistic regression model, SVM, etc.) to compensate for imbalance between classes."
   ]
  },
  {
   "cell_type": "code",
   "execution_count": 40,
   "id": "0b298f8a-2554-438a-a844-591c9ec55b2f",
   "metadata": {},
   "outputs": [],
   "source": [
    "# Division into Train Data and Test Data (Test to VALIDATION)\n",
    "X_train, X_val, y_train, y_val = train_test_split(X_train_array,\n",
    "                                                  y_train_le,\n",
    "                                                  test_size = 0.2,\n",
    "                                                  random_state = 42,\n",
    "                                                  stratify = y_train_le)"
   ]
  },
  {
   "cell_type": "code",
   "execution_count": 41,
   "id": "ef3f1d8c-bb5c-483d-94bc-c8c4300f944f",
   "metadata": {},
   "outputs": [],
   "source": [
    "# Set target variable as categorical type\n",
    "y_train_encoded = to_categorical(y_train)\n",
    "y_test_encoded = to_categorical(y_test_le)\n",
    "y_val_encoded = to_categorical(y_val)"
   ]
  },
  {
   "cell_type": "code",
   "execution_count": 42,
   "id": "dd842d3a-fc24-4ebf-9dd9-6629a5d89366",
   "metadata": {},
   "outputs": [
    {
     "data": {
      "text/plain": [
       "((12800, 6), (2000, 6), (3200, 6))"
      ]
     },
     "execution_count": 42,
     "metadata": {},
     "output_type": "execute_result"
    }
   ],
   "source": [
    "# Shape \n",
    "y_train_encoded.shape, y_test_encoded.shape, y_val_encoded.shape"
   ]
  },
  {
   "cell_type": "markdown",
   "id": "c9afb35c-053c-4e74-964b-73e798da9194",
   "metadata": {},
   "source": [
    "### Step 3: Build the Model\n"
   ]
  },
  {
   "cell_type": "code",
   "execution_count": 48,
   "id": "cc510de0-767d-40b4-9f87-3f790c903a8c",
   "metadata": {},
   "outputs": [],
   "source": [
    "# Create Model\n",
    "\n",
    "# Initializes a sequential model. Sequential models are a linear stack of layers..\n",
    "model_pt_v1 = Sequential() \n",
    "\n",
    "# Adds the first dense (fully-connected) layer to the model\n",
    "model_pt_v1.add(Dense(4096, \n",
    "                        \n",
    "                        # Set SELU Activation function (Scaled Exponential Linear Unit)\n",
    "                        activation = 'selu',  \n",
    "                        \n",
    "                        # Initializes the weights with the normal LeCun distribution\n",
    "                        kernel_initializer = 'lecun_normal',  \n",
    "                        \n",
    "                        # Defines the input format based on the number of features in the X_train\n",
    "                        input_shape = (X_train.shape[1],),  \n",
    "                        \n",
    "                        # Apply L2 regularization to reduce overfitting\n",
    "                        kernel_regularizer = tf.keras.regularizers.l2(0.01)))  \n",
    "\n",
    "# Adds second dense layer\n",
    "model_pt_v1.add(Dense(2048,\n",
    "                      activation = 'selu',\n",
    "                      kernel_initializer = 'lecun_normal',\n",
    "                      kernel_regularizer = tf.keras.regularizers.l2(0.01))) # Kernel regularizer avoid overfitting \n",
    "\n",
    "# Adds third dense layer\n",
    "model_pt_v1.add(Dense(1024,\n",
    "                      activation = 'selu',\n",
    "                      kernel_initializer = 'lecun_normal', # there are other iniatilizers strategies\n",
    "                      kernel_regularizer = tf.keras.regularizers.l2(0.1)))  \n",
    "\n",
    "# Adds a fourth dense layer\n",
    "# Layer with 64 neurons and SELU activation\n",
    "model_pt_v1.add(Dense(64, activation = 'selu',))  \n",
    "\n",
    "# Adds output layer\n",
    "# Output layer with 6 neurons and SOFTMAX activation for multiclass classification\n",
    "model_pt_v1.add(Dense(6, activation = 'softmax'))  "
   ]
  },
  {
   "cell_type": "markdown",
   "id": "589e2420-2a2a-4c99-ac6c-935f98cf8b1d",
   "metadata": {},
   "source": [
    "### Step 4: Data Preparation\n"
   ]
  },
  {
   "cell_type": "code",
   "execution_count": 49,
   "id": "5d54f991-219e-41ca-b696-a893c8dcad16",
   "metadata": {},
   "outputs": [
    {
     "data": {
      "text/plain": [
       "<tf.Tensor: shape=(6,), dtype=float32, numpy=\n",
       "array([1.2351397 , 1.3766993 , 0.49732688, 2.0449898 , 0.5715102 ,\n",
       "       4.6620045 ], dtype=float32)>"
      ]
     },
     "execution_count": 49,
     "metadata": {},
     "output_type": "execute_result"
    }
   ],
   "source": [
    "# Assigns specific weights to the bias vector of the last layer of the model\n",
    "model_pt_v1.layers[-1].bias.assign(classes_weights)"
   ]
  },
  {
   "cell_type": "code",
   "execution_count": 51,
   "id": "4e33f84b-17ce-4f0c-9146-2946c33ab0ab",
   "metadata": {},
   "outputs": [],
   "source": [
    "# Compiles the model.\n",
    "# Set optimizer as a 'Adam'. \n",
    "# Adam is an optimization algorithm that can be used in place of the classic stochastic gradient descent \n",
    "# procedure to update network weights iteratively based on training data.\n",
    "# Sets the loss function to 'categorical_crossentropy'. It is suitable for multi-class classification problems, \n",
    "# where labels are provided in a one-hot encoded format.\n",
    "# Sets the model evaluation metric to 'accuracy'. \n",
    "# Accuracy is a common metric for evaluating the performance of classification models.\n",
    "\n",
    "model_pt_v1.compile(optimizer = 'Adam',\n",
    "                    loss = tf.losses.categorical_crossentropy, # Calculate the error for each class\n",
    "                    metrics = ['accuracy'])  "
   ]
  },
  {
   "cell_type": "code",
   "execution_count": 52,
   "id": "5bb6e9e3-296e-4318-b532-a152ea98180a",
   "metadata": {},
   "outputs": [
    {
     "data": {
      "text/html": [
       "<pre style=\"white-space:pre;overflow-x:auto;line-height:normal;font-family:Menlo,'DejaVu Sans Mono',consolas,'Courier New',monospace\"><span style=\"font-weight: bold\">Model: \"sequential_1\"</span>\n",
       "</pre>\n"
      ],
      "text/plain": [
       "\u001b[1mModel: \"sequential_1\"\u001b[0m\n"
      ]
     },
     "metadata": {},
     "output_type": "display_data"
    },
    {
     "data": {
      "text/html": [
       "<pre style=\"white-space:pre;overflow-x:auto;line-height:normal;font-family:Menlo,'DejaVu Sans Mono',consolas,'Courier New',monospace\">┏━━━━━━━━━━━━━━━━━━━━━━━━━━━━━━━━━┳━━━━━━━━━━━━━━━━━━━━━━━━┳━━━━━━━━━━━━━━━┓\n",
       "┃<span style=\"font-weight: bold\"> Layer (type)                    </span>┃<span style=\"font-weight: bold\"> Output Shape           </span>┃<span style=\"font-weight: bold\">       Param # </span>┃\n",
       "┡━━━━━━━━━━━━━━━━━━━━━━━━━━━━━━━━━╇━━━━━━━━━━━━━━━━━━━━━━━━╇━━━━━━━━━━━━━━━┩\n",
       "│ dense_5 (<span style=\"color: #0087ff; text-decoration-color: #0087ff\">Dense</span>)                 │ (<span style=\"color: #00d7ff; text-decoration-color: #00d7ff\">None</span>, <span style=\"color: #00af00; text-decoration-color: #00af00\">4096</span>)           │    <span style=\"color: #00af00; text-decoration-color: #00af00\">22,888,448</span> │\n",
       "├─────────────────────────────────┼────────────────────────┼───────────────┤\n",
       "│ dense_6 (<span style=\"color: #0087ff; text-decoration-color: #0087ff\">Dense</span>)                 │ (<span style=\"color: #00d7ff; text-decoration-color: #00d7ff\">None</span>, <span style=\"color: #00af00; text-decoration-color: #00af00\">2048</span>)           │     <span style=\"color: #00af00; text-decoration-color: #00af00\">8,390,656</span> │\n",
       "├─────────────────────────────────┼────────────────────────┼───────────────┤\n",
       "│ dense_7 (<span style=\"color: #0087ff; text-decoration-color: #0087ff\">Dense</span>)                 │ (<span style=\"color: #00d7ff; text-decoration-color: #00d7ff\">None</span>, <span style=\"color: #00af00; text-decoration-color: #00af00\">1024</span>)           │     <span style=\"color: #00af00; text-decoration-color: #00af00\">2,098,176</span> │\n",
       "├─────────────────────────────────┼────────────────────────┼───────────────┤\n",
       "│ dense_8 (<span style=\"color: #0087ff; text-decoration-color: #0087ff\">Dense</span>)                 │ (<span style=\"color: #00d7ff; text-decoration-color: #00d7ff\">None</span>, <span style=\"color: #00af00; text-decoration-color: #00af00\">64</span>)             │        <span style=\"color: #00af00; text-decoration-color: #00af00\">65,600</span> │\n",
       "├─────────────────────────────────┼────────────────────────┼───────────────┤\n",
       "│ dense_9 (<span style=\"color: #0087ff; text-decoration-color: #0087ff\">Dense</span>)                 │ (<span style=\"color: #00d7ff; text-decoration-color: #00d7ff\">None</span>, <span style=\"color: #00af00; text-decoration-color: #00af00\">6</span>)              │           <span style=\"color: #00af00; text-decoration-color: #00af00\">390</span> │\n",
       "└─────────────────────────────────┴────────────────────────┴───────────────┘\n",
       "</pre>\n"
      ],
      "text/plain": [
       "┏━━━━━━━━━━━━━━━━━━━━━━━━━━━━━━━━━┳━━━━━━━━━━━━━━━━━━━━━━━━┳━━━━━━━━━━━━━━━┓\n",
       "┃\u001b[1m \u001b[0m\u001b[1mLayer (type)                   \u001b[0m\u001b[1m \u001b[0m┃\u001b[1m \u001b[0m\u001b[1mOutput Shape          \u001b[0m\u001b[1m \u001b[0m┃\u001b[1m \u001b[0m\u001b[1m      Param #\u001b[0m\u001b[1m \u001b[0m┃\n",
       "┡━━━━━━━━━━━━━━━━━━━━━━━━━━━━━━━━━╇━━━━━━━━━━━━━━━━━━━━━━━━╇━━━━━━━━━━━━━━━┩\n",
       "│ dense_5 (\u001b[38;5;33mDense\u001b[0m)                 │ (\u001b[38;5;45mNone\u001b[0m, \u001b[38;5;34m4096\u001b[0m)           │    \u001b[38;5;34m22,888,448\u001b[0m │\n",
       "├─────────────────────────────────┼────────────────────────┼───────────────┤\n",
       "│ dense_6 (\u001b[38;5;33mDense\u001b[0m)                 │ (\u001b[38;5;45mNone\u001b[0m, \u001b[38;5;34m2048\u001b[0m)           │     \u001b[38;5;34m8,390,656\u001b[0m │\n",
       "├─────────────────────────────────┼────────────────────────┼───────────────┤\n",
       "│ dense_7 (\u001b[38;5;33mDense\u001b[0m)                 │ (\u001b[38;5;45mNone\u001b[0m, \u001b[38;5;34m1024\u001b[0m)           │     \u001b[38;5;34m2,098,176\u001b[0m │\n",
       "├─────────────────────────────────┼────────────────────────┼───────────────┤\n",
       "│ dense_8 (\u001b[38;5;33mDense\u001b[0m)                 │ (\u001b[38;5;45mNone\u001b[0m, \u001b[38;5;34m64\u001b[0m)             │        \u001b[38;5;34m65,600\u001b[0m │\n",
       "├─────────────────────────────────┼────────────────────────┼───────────────┤\n",
       "│ dense_9 (\u001b[38;5;33mDense\u001b[0m)                 │ (\u001b[38;5;45mNone\u001b[0m, \u001b[38;5;34m6\u001b[0m)              │           \u001b[38;5;34m390\u001b[0m │\n",
       "└─────────────────────────────────┴────────────────────────┴───────────────┘\n"
      ]
     },
     "metadata": {},
     "output_type": "display_data"
    },
    {
     "data": {
      "text/html": [
       "<pre style=\"white-space:pre;overflow-x:auto;line-height:normal;font-family:Menlo,'DejaVu Sans Mono',consolas,'Courier New',monospace\"><span style=\"font-weight: bold\"> Total params: </span><span style=\"color: #00af00; text-decoration-color: #00af00\">33,443,270</span> (127.58 MB)\n",
       "</pre>\n"
      ],
      "text/plain": [
       "\u001b[1m Total params: \u001b[0m\u001b[38;5;34m33,443,270\u001b[0m (127.58 MB)\n"
      ]
     },
     "metadata": {},
     "output_type": "display_data"
    },
    {
     "data": {
      "text/html": [
       "<pre style=\"white-space:pre;overflow-x:auto;line-height:normal;font-family:Menlo,'DejaVu Sans Mono',consolas,'Courier New',monospace\"><span style=\"font-weight: bold\"> Trainable params: </span><span style=\"color: #00af00; text-decoration-color: #00af00\">33,443,270</span> (127.58 MB)\n",
       "</pre>\n"
      ],
      "text/plain": [
       "\u001b[1m Trainable params: \u001b[0m\u001b[38;5;34m33,443,270\u001b[0m (127.58 MB)\n"
      ]
     },
     "metadata": {},
     "output_type": "display_data"
    },
    {
     "data": {
      "text/html": [
       "<pre style=\"white-space:pre;overflow-x:auto;line-height:normal;font-family:Menlo,'DejaVu Sans Mono',consolas,'Courier New',monospace\"><span style=\"font-weight: bold\"> Non-trainable params: </span><span style=\"color: #00af00; text-decoration-color: #00af00\">0</span> (0.00 B)\n",
       "</pre>\n"
      ],
      "text/plain": [
       "\u001b[1m Non-trainable params: \u001b[0m\u001b[38;5;34m0\u001b[0m (0.00 B)\n"
      ]
     },
     "metadata": {},
     "output_type": "display_data"
    }
   ],
   "source": [
    "model_pt_v1.summary()"
   ]
  },
  {
   "cell_type": "markdown",
   "id": "8d212470-2749-4dac-a2e3-eb350e3affd4",
   "metadata": {},
   "source": [
    "### Step 5: Callbacks and Early Stopping"
   ]
  },
  {
   "cell_type": "code",
   "execution_count": 54,
   "id": "51c4cd5b-e67d-474e-bf3a-06bcd89a2868",
   "metadata": {},
   "outputs": [],
   "source": [
    "# Function for learning rate scheduler parameters\n",
    "def step_decay(epoch):\n",
    "    initial_lrate = 0.001\n",
    "    drop = 0.5\n",
    "    epochs_drop = 10.0\n",
    "    lrate = initial_lrate * math.pow(drop, math.floor((1 + epoch) / epochs_drop))\n",
    "    return lrate"
   ]
  },
  {
   "cell_type": "code",
   "execution_count": 55,
   "id": "efad862f-0157-4d11-85cb-0017282aab03",
   "metadata": {},
   "outputs": [],
   "source": [
    "# learning rate Scheduler\n",
    "lr_scheduler = LearningRateScheduler(step_decay)"
   ]
  },
  {
   "cell_type": "code",
   "execution_count": 56,
   "id": "ec5b26a6-8e9b-4934-940b-2f2c5dbcf18a",
   "metadata": {},
   "outputs": [],
   "source": [
    "# Early Stopping\n",
    "early_stopping = EarlyStopping(monitor = 'val_loss', restore_best_weights = True, patience = 3) "
   ]
  },
  {
   "cell_type": "markdown",
   "id": "775c1a96-a0b4-47a3-ae83-e696641942b6",
   "metadata": {},
   "source": [
    "### Step 6:  Model training"
   ]
  },
  {
   "cell_type": "code",
   "execution_count": 57,
   "id": "994d2eea-9f5c-4127-85f6-dd155dc5b957",
   "metadata": {},
   "outputs": [],
   "source": [
    "# Hyperparameters\n",
    "num_epochs = 20\n",
    "value_size_batch = 256"
   ]
  },
  {
   "cell_type": "code",
   "execution_count": 58,
   "id": "0f710ba9-bbe0-4fe6-b182-6a1cb54ef534",
   "metadata": {},
   "outputs": [
    {
     "name": "stdout",
     "output_type": "stream",
     "text": [
      "Epoch 1/20\n",
      "\u001b[1m50/50\u001b[0m \u001b[32m━━━━━━━━━━━━━━━━━━━━\u001b[0m\u001b[37m\u001b[0m \u001b[1m14s\u001b[0m 259ms/step - accuracy: 0.4849 - loss: 77.8516 - val_accuracy: 0.7478 - val_loss: 2.3537 - learning_rate: 0.0010\n",
      "Epoch 2/20\n",
      "\u001b[1m50/50\u001b[0m \u001b[32m━━━━━━━━━━━━━━━━━━━━\u001b[0m\u001b[37m\u001b[0m \u001b[1m12s\u001b[0m 248ms/step - accuracy: 0.7945 - loss: 1.7166 - val_accuracy: 0.7572 - val_loss: 1.3603 - learning_rate: 0.0010\n",
      "Epoch 3/20\n",
      "\u001b[1m50/50\u001b[0m \u001b[32m━━━━━━━━━━━━━━━━━━━━\u001b[0m\u001b[37m\u001b[0m \u001b[1m12s\u001b[0m 248ms/step - accuracy: 0.8132 - loss: 1.2014 - val_accuracy: 0.7812 - val_loss: 1.2318 - learning_rate: 0.0010\n",
      "Epoch 4/20\n",
      "\u001b[1m50/50\u001b[0m \u001b[32m━━━━━━━━━━━━━━━━━━━━\u001b[0m\u001b[37m\u001b[0m \u001b[1m13s\u001b[0m 250ms/step - accuracy: 0.8497 - loss: 1.0733 - val_accuracy: 0.8062 - val_loss: 1.1601 - learning_rate: 0.0010\n",
      "Epoch 5/20\n",
      "\u001b[1m50/50\u001b[0m \u001b[32m━━━━━━━━━━━━━━━━━━━━\u001b[0m\u001b[37m\u001b[0m \u001b[1m12s\u001b[0m 248ms/step - accuracy: 0.8745 - loss: 0.9728 - val_accuracy: 0.8025 - val_loss: 1.1387 - learning_rate: 0.0010\n",
      "Epoch 6/20\n",
      "\u001b[1m50/50\u001b[0m \u001b[32m━━━━━━━━━━━━━━━━━━━━\u001b[0m\u001b[37m\u001b[0m \u001b[1m13s\u001b[0m 251ms/step - accuracy: 0.8944 - loss: 0.9090 - val_accuracy: 0.8094 - val_loss: 1.1837 - learning_rate: 0.0010\n",
      "Epoch 7/20\n",
      "\u001b[1m50/50\u001b[0m \u001b[32m━━━━━━━━━━━━━━━━━━━━\u001b[0m\u001b[37m\u001b[0m \u001b[1m13s\u001b[0m 258ms/step - accuracy: 0.9071 - loss: 0.9037 - val_accuracy: 0.8253 - val_loss: 1.1025 - learning_rate: 0.0010\n",
      "Epoch 8/20\n",
      "\u001b[1m50/50\u001b[0m \u001b[32m━━━━━━━━━━━━━━━━━━━━\u001b[0m\u001b[37m\u001b[0m \u001b[1m13s\u001b[0m 255ms/step - accuracy: 0.9226 - loss: 0.8100 - val_accuracy: 0.8197 - val_loss: 1.1319 - learning_rate: 0.0010\n",
      "Epoch 9/20\n",
      "\u001b[1m50/50\u001b[0m \u001b[32m━━━━━━━━━━━━━━━━━━━━\u001b[0m\u001b[37m\u001b[0m \u001b[1m13s\u001b[0m 257ms/step - accuracy: 0.9232 - loss: 0.8416 - val_accuracy: 0.8131 - val_loss: 1.1926 - learning_rate: 0.0010\n",
      "Epoch 10/20\n",
      "\u001b[1m50/50\u001b[0m \u001b[32m━━━━━━━━━━━━━━━━━━━━\u001b[0m\u001b[37m\u001b[0m \u001b[1m13s\u001b[0m 266ms/step - accuracy: 0.9413 - loss: 0.7450 - val_accuracy: 0.8188 - val_loss: 0.8620 - learning_rate: 5.0000e-04\n",
      "Epoch 11/20\n",
      "\u001b[1m50/50\u001b[0m \u001b[32m━━━━━━━━━━━━━━━━━━━━\u001b[0m\u001b[37m\u001b[0m \u001b[1m13s\u001b[0m 262ms/step - accuracy: 0.9608 - loss: 0.4890 - val_accuracy: 0.8275 - val_loss: 0.7983 - learning_rate: 5.0000e-04\n",
      "Epoch 12/20\n",
      "\u001b[1m50/50\u001b[0m \u001b[32m━━━━━━━━━━━━━━━━━━━━\u001b[0m\u001b[37m\u001b[0m \u001b[1m13s\u001b[0m 267ms/step - accuracy: 0.9653 - loss: 0.4520 - val_accuracy: 0.8269 - val_loss: 0.8073 - learning_rate: 5.0000e-04\n",
      "Epoch 13/20\n",
      "\u001b[1m50/50\u001b[0m \u001b[32m━━━━━━━━━━━━━━━━━━━━\u001b[0m\u001b[37m\u001b[0m \u001b[1m13s\u001b[0m 265ms/step - accuracy: 0.9663 - loss: 0.4407 - val_accuracy: 0.8225 - val_loss: 0.8214 - learning_rate: 5.0000e-04\n",
      "Epoch 14/20\n",
      "\u001b[1m50/50\u001b[0m \u001b[32m━━━━━━━━━━━━━━━━━━━━\u001b[0m\u001b[37m\u001b[0m \u001b[1m13s\u001b[0m 264ms/step - accuracy: 0.9687 - loss: 0.4371 - val_accuracy: 0.8259 - val_loss: 0.8169 - learning_rate: 5.0000e-04\n",
      "CPU times: user 17min 25s, sys: 2min, total: 19min 25s\n",
      "Wall time: 3min\n"
     ]
    }
   ],
   "source": [
    "%%time\n",
    "history = model_pt_v1.fit(X_train, \n",
    "                            y_train_encoded, \n",
    "                            validation_data = (X_val, y_val_encoded), \n",
    "                            epochs = num_epochs, \n",
    "                            batch_size = value_size_batch, \n",
    "                            callbacks = [early_stopping, lr_scheduler])"
   ]
  },
  {
   "cell_type": "markdown",
   "id": "6a1b893d-9c8b-4b48-a40e-bb06e3950808",
   "metadata": {},
   "source": [
    "### Step 7:  Model Assessment"
   ]
  },
  {
   "cell_type": "code",
   "execution_count": 59,
   "id": "3eb3acf5-d6df-4942-80f3-99571ea7dd62",
   "metadata": {},
   "outputs": [],
   "source": [
    "# Extract the error in training and validation\n",
    "loss, val_loss = history.history['loss'], history.history['val_loss']"
   ]
  },
  {
   "cell_type": "code",
   "execution_count": 60,
   "id": "73f433be-cda0-4794-85a9-091564cf9b15",
   "metadata": {},
   "outputs": [
    {
     "data": {
      "image/png": "[encoded data removed]",
      "text/plain": [
       "<Figure size 640x480 with 1 Axes>"
      ]
     },
     "metadata": {},
     "output_type": "display_data"
    }
   ],
   "source": [
    "# Plot\n",
    "plt.plot(loss, label = 'loss')\n",
    "plt.plot(val_loss, label = 'val_loss')\n",
    "plt.legend()\n",
    "plt.show()"
   ]
  },
  {
   "cell_type": "code",
   "execution_count": 62,
   "id": "f0792fca-f733-428a-bdc8-1cf0118c57fc",
   "metadata": {},
   "outputs": [
    {
     "name": "stdout",
     "output_type": "stream",
     "text": [
      "\u001b[1m63/63\u001b[0m \u001b[32m━━━━━━━━━━━━━━━━━━━━\u001b[0m\u001b[37m\u001b[0m \u001b[1m1s\u001b[0m 12ms/step\n"
     ]
    }
   ],
   "source": [
    "# Predictions with test data\n",
    "predictions_v1 = model_pt_v1.predict(X_test_array)"
   ]
  },
  {
   "cell_type": "code",
   "execution_count": 63,
   "id": "7e6e2b38-f0be-4222-8b7c-51ba52c79957",
   "metadata": {},
   "outputs": [],
   "source": [
    "# Labels extract\n",
    "predictions_v1_labels = predictions_v1.argmax(axis = 1)"
   ]
  },
  {
   "cell_type": "code",
   "execution_count": 64,
   "id": "f405ad74-765b-4815-a621-4a96fd383683",
   "metadata": {},
   "outputs": [
    {
     "name": "stdout",
     "output_type": "stream",
     "text": [
      "              precision    recall  f1-score   support\n",
      "\n",
      "           0       0.83      0.81      0.82       275\n",
      "           1       0.81      0.82      0.82       224\n",
      "           2       0.86      0.90      0.88       695\n",
      "           3       0.67      0.72      0.70       159\n",
      "           4       0.90      0.85      0.87       581\n",
      "           5       0.69      0.65      0.67        66\n",
      "\n",
      "    accuracy                           0.84      2000\n",
      "   macro avg       0.79      0.79      0.79      2000\n",
      "weighted avg       0.84      0.84      0.84      2000\n",
      "\n"
     ]
    }
   ],
   "source": [
    "print(classification_report(y_test_le, predictions_v1_labels))"
   ]
  },
  {
   "cell_type": "code",
   "execution_count": 65,
   "id": "d7a948d3-d8fd-44d5-aa76-4857aa314936",
   "metadata": {},
   "outputs": [
    {
     "name": "stdout",
     "output_type": "stream",
     "text": [
      "[[223   5   7   6  30   4]\n",
      " [ 10 184   6   1  11  12]\n",
      " [  7   6 625  45  11   1]\n",
      " [  6   2  32 114   3   2]\n",
      " [ 19  20  50   1 491   0]\n",
      " [  5   9   7   2   0  43]]\n"
     ]
    }
   ],
   "source": [
    "print(confusion_matrix(y_test_le, predictions_v1_labels))"
   ]
  },
  {
   "cell_type": "code",
   "execution_count": 66,
   "id": "13d10e9d-d7ac-4d28-a09d-d0d6357da138",
   "metadata": {},
   "outputs": [
    {
     "name": "stdout",
     "output_type": "stream",
     "text": [
      "0.84\n"
     ]
    }
   ],
   "source": [
    "print(accuracy_score(y_test_le, predictions_v1_labels))"
   ]
  },
  {
   "cell_type": "code",
   "execution_count": 67,
   "id": "83c3c2a8-4e03-4ad3-af33-de88c946a149",
   "metadata": {},
   "outputs": [],
   "source": [
    "# Model save\n",
    "model_pt_v1.save('model_pt_v1.keras') "
   ]
  },
  {
   "cell_type": "markdown",
   "id": "78b20937-de77-4e3b-b0d6-e12c73745ac4",
   "metadata": {},
   "source": [
    "### Step 8: Deploy - Model Version 1"
   ]
  },
  {
   "cell_type": "code",
   "execution_count": 70,
   "id": "8c915602-6494-4be8-9547-5d820cb7fe2f",
   "metadata": {},
   "outputs": [],
   "source": [
    "# Load model\n",
    "loaded_model = load_model('model_pt_v1.keras')  "
   ]
  },
  {
   "cell_type": "code",
   "execution_count": 71,
   "id": "984c91e2-cf4b-4df2-8c85-155ca331c3d1",
   "metadata": {},
   "outputs": [],
   "source": [
    "# New phrase (sentiment = fear)\n",
    "phrase = \"i even feel a little shaky\""
   ]
  },
  {
   "cell_type": "code",
   "execution_count": 72,
   "id": "e68a4b2a-162c-4234-9ac0-cf02a2b8841b",
   "metadata": {},
   "outputs": [],
   "source": [
    "# Create dataframe with phrase\n",
    "df_newer = pd.DataFrame({'Phrase': [phrase]})"
   ]
  },
  {
   "cell_type": "code",
   "execution_count": 76,
   "id": "48a437df-3f17-4783-be02-2111e097d2f3",
   "metadata": {},
   "outputs": [],
   "source": [
    "# Apply Pre Process Function\n",
    "df_newer['Processed_Phrase'] = df_newer['Phrase'].apply(pt_preprocessing_text)"
   ]
  },
  {
   "cell_type": "code",
   "execution_count": 77,
   "id": "4bb04f34-ea7b-4111-b964-682b820cc8ad",
   "metadata": {},
   "outputs": [
    {
     "data": {
      "text/html": [
       "<div>\n",
       "<style scoped>\n",
       "    .dataframe tbody tr th:only-of-type {\n",
       "        vertical-align: middle;\n",
       "    }\n",
       "\n",
       "    .dataframe tbody tr th {\n",
       "        vertical-align: top;\n",
       "    }\n",
       "\n",
       "    .dataframe thead th {\n",
       "        text-align: right;\n",
       "    }\n",
       "</style>\n",
       "<table border=\"1\" class=\"dataframe\">\n",
       "  <thead>\n",
       "    <tr style=\"text-align: right;\">\n",
       "      <th></th>\n",
       "      <th>Phrase</th>\n",
       "      <th>Processed_Phrase</th>\n",
       "    </tr>\n",
       "  </thead>\n",
       "  <tbody>\n",
       "    <tr>\n",
       "      <th>0</th>\n",
       "      <td>i even feel a little shaky</td>\n",
       "      <td>feel little shaky</td>\n",
       "    </tr>\n",
       "  </tbody>\n",
       "</table>\n",
       "</div>"
      ],
      "text/plain": [
       "                       Phrase   Processed_Phrase\n",
       "0  i even feel a little shaky  feel little shaky"
      ]
     },
     "execution_count": 77,
     "metadata": {},
     "output_type": "execute_result"
    }
   ],
   "source": [
    "df_newer"
   ]
  },
  {
   "cell_type": "code",
   "execution_count": 78,
   "id": "db7f625f-d758-4ae4-b147-df954fb5cc34",
   "metadata": {},
   "outputs": [],
   "source": [
    "# Apply vectorization\n",
    "df_newer_tfidf = pt_tfidf.transform(df_newer['Processed_Phrase'])"
   ]
  },
  {
   "cell_type": "code",
   "execution_count": 79,
   "id": "47d990d4-8a46-4d2c-9ab2-b45a0ebbef95",
   "metadata": {},
   "outputs": [],
   "source": [
    "# Transform into array\n",
    "df_newer_array = df_newer_tfidf.toarray()"
   ]
  },
  {
   "cell_type": "code",
   "execution_count": 80,
   "id": "81302f5f-b333-4319-9188-9ed9e769d696",
   "metadata": {},
   "outputs": [
    {
     "name": "stdout",
     "output_type": "stream",
     "text": [
      "\u001b[1m1/1\u001b[0m \u001b[32m━━━━━━━━━━━━━━━━━━━━\u001b[0m\u001b[37m\u001b[0m \u001b[1m0s\u001b[0m 53ms/step\n"
     ]
    }
   ],
   "source": [
    "# Predictions\n",
    "predictions = loaded_model.predict(df_newer_array)"
   ]
  },
  {
   "cell_type": "code",
   "execution_count": 81,
   "id": "c0e11986-c5db-4981-8d96-638ac5c77589",
   "metadata": {},
   "outputs": [
    {
     "data": {
      "text/plain": [
       "array([[1.8898817e-06, 9.9735969e-01, 2.6607999e-04, 8.4900403e-06,\n",
       "        1.1605173e-03, 1.2033631e-03]], dtype=float32)"
      ]
     },
     "execution_count": 81,
     "metadata": {},
     "output_type": "execute_result"
    }
   ],
   "source": [
    "predictions"
   ]
  },
  {
   "cell_type": "code",
   "execution_count": 82,
   "id": "6df90c56-cac0-4e9e-86c6-3a1d4d8e37b3",
   "metadata": {},
   "outputs": [],
   "source": [
    "# Select the class with the highest probability\n",
    "high_prob_class = np.argmax(predictions, axis = 1)"
   ]
  },
  {
   "cell_type": "code",
   "execution_count": 83,
   "id": "f4f9db05-cbac-474e-ad15-dbbfd49a0793",
   "metadata": {},
   "outputs": [
    {
     "data": {
      "text/plain": [
       "array([1])"
      ]
     },
     "execution_count": 83,
     "metadata": {},
     "output_type": "execute_result"
    }
   ],
   "source": [
    "high_prob_class"
   ]
  },
  {
   "cell_type": "code",
   "execution_count": 84,
   "id": "5ef5abe1-60e3-4cb4-b6f0-d291704fb460",
   "metadata": {},
   "outputs": [],
   "source": [
    "# Get name of the class\n",
    "class_name = pt_le.inverse_transform(high_prob_class) # Reverse transforme to get class value"
   ]
  },
  {
   "cell_type": "code",
   "execution_count": 85,
   "id": "d88e7dba-4a2b-47c7-8039-389457585796",
   "metadata": {},
   "outputs": [
    {
     "data": {
      "text/plain": [
       "array(['fear'], dtype=object)"
      ]
     },
     "execution_count": 85,
     "metadata": {},
     "output_type": "execute_result"
    }
   ],
   "source": [
    "# Predicted class\n",
    "class_name"
   ]
  },
  {
   "cell_type": "code",
   "execution_count": 87,
   "id": "8515b5cc-2635-4355-8325-4f8730541c64",
   "metadata": {},
   "outputs": [
    {
     "name": "stdout",
     "output_type": "stream",
     "text": [
      "Author: postcristiano.pt\n",
      "\n",
      "Python implementation: CPython\n",
      "Python version       : 3.12.8\n",
      "IPython version      : 8.31.0\n",
      "\n",
      "Compiler    : Clang 16.0.0 (clang-1600.0.26.4)\n",
      "OS          : Darwin\n",
      "Release     : 24.2.0\n",
      "Machine     : arm64\n",
      "Processor   : arm\n",
      "CPU cores   : 8\n",
      "Architecture: 64bit\n",
      "\n",
      "tqdm        : 4.67.1\n",
      "pandas      : 2.2.3\n",
      "spacy       : 3.8.4\n",
      "matplotlib  : 3.10.0\n",
      "tensorflow  : 2.18.0\n",
      "numpy       : 2.0.2\n",
      "transformers: 4.48.1\n",
      "nltk        : 3.9.1\n",
      "tokenizers  : 0.21.0\n",
      "scipy       : 1.15.1\n",
      "logging     : 0.5.1.2\n",
      "keras       : 3.8.0\n",
      "sklearn     : 1.6.1\n",
      "\n"
     ]
    }
   ],
   "source": [
    "%watermark -a \"postcristiano.pt\"\n",
    "\n",
    "%watermark -v -m\n",
    "\n",
    "%watermark --iversions"
   ]
  },
  {
   "cell_type": "code",
   "execution_count": null,
   "id": "38653435-5440-419a-b2f2-d484a3f2eab8",
   "metadata": {},
   "outputs": [],
   "source": []
  }
 ],
 "metadata": {
  "kernelspec": {
   "display_name": "Python 3 (ipykernel)",
   "language": "python",
   "name": "python3"
  },
  "language_info": {
   "codemirror_mode": {
    "name": "ipython",
    "version": 3
   },
   "file_extension": ".py",
   "mimetype": "text/x-python",
   "name": "python",
   "nbconvert_exporter": "python",
   "pygments_lexer": "ipython3",
   "version": "3.12.8"
  }
 },
 "nbformat": 4,
 "nbformat_minor": 5
}
